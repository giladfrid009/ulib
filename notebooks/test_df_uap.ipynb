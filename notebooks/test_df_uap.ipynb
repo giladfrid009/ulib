{
    "cells": [
        {
            "cell_type": "code",
            "execution_count": null,
            "metadata": {},
            "outputs": [],
            "source": [
                "# fix imports\n",
                "import os\n",
                "import sys\n",
                "\n",
                "module_path = os.path.abspath(os.path.join(\"..\"))\n",
                "if module_path not in sys.path:\n",
                "    sys.path.append(module_path)"
            ]
        },
        {
            "cell_type": "code",
            "execution_count": null,
            "metadata": {},
            "outputs": [],
            "source": [
                "import torch\n",
                "from notebooks.experiment_robust import load_robust_experiment\n",
                "from notebooks.experiment_torch import load_torchvision_experiment\n",
                "\n",
                "model, dl_train, dl_eval = load_robust_experiment(\"Standard\", \"cifar10\")\n",
                "# model, dl_train, dl_eval = load_torchvision_experiment(\"vgg16\")"
            ]
        },
        {
            "cell_type": "code",
            "execution_count": null,
            "metadata": {},
            "outputs": [],
            "source": [
                "from ulib.attack import StopCriteria\n",
                "from ulib.attacks.df_uap import DF_UAP\n",
                "from ulib.pert_module import PertModule\n",
                "\n",
                "stop = StopCriteria(max_epochs=5, max_time=600)\n",
                "pert_model = PertModule(model, data_shape=dl_train.get_tensor(0).shape[1:], eps=8 / 255, random_init=True)\n",
                "optimizer = torch.optim.Adam(pert_model.parameters(), lr=1e-2)\n",
                "scheduler = torch.optim.lr_scheduler.CosineAnnealingWarmRestarts(optimizer, T_0=20, T_mult=1)\n",
                "grad_scaler = torch.GradScaler(device=pert_model.device.type)\n",
                "\n",
                "attack = DF_UAP(\n",
                "    pert_model=pert_model,\n",
                "    optimizer=optimizer,\n",
                "    scheduler=scheduler,\n",
                "    grad_scaler=grad_scaler,\n",
                ")\n",
                "\n",
                "pert = attack.fit(dl_train, dl_eval, stop)"
            ]
        },
        {
            "cell_type": "code",
            "execution_count": null,
            "metadata": {},
            "outputs": [],
            "source": [
                "attack.close()"
            ]
        },
        {
            "cell_type": "code",
            "execution_count": null,
            "metadata": {},
            "outputs": [],
            "source": [
                "from ulib import eval\n",
                "\n",
                "eval.full_analysis(pert_model, dl_eval)"
            ]
        }
    ],
    "metadata": {
        "kernelspec": {
            "display_name": "adv_hw",
            "language": "python",
            "name": "python3"
        },
        "language_info": {
            "codemirror_mode": {
                "name": "ipython",
                "version": 3
            },
            "file_extension": ".py",
            "mimetype": "text/x-python",
            "name": "python",
            "nbconvert_exporter": "python",
            "pygments_lexer": "ipython3",
            "version": "3.11.11"
        }
    },
    "nbformat": 4,
    "nbformat_minor": 2
}