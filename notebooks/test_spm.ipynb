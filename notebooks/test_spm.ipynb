{
 "cells": [
  {
   "cell_type": "code",
   "execution_count": 1,
   "metadata": {},
   "outputs": [],
   "source": [
    "# fix imports\n",
    "import os\n",
    "import sys\n",
    "\n",
    "module_path = os.path.abspath(os.path.join(\"..\"))\n",
    "if module_path not in sys.path:\n",
    "    sys.path.append(module_path)"
   ]
  },
  {
   "cell_type": "code",
   "execution_count": null,
   "metadata": {},
   "outputs": [],
   "source": [
    "import torch\n",
    "from notebooks.experiment_robust import load_robust_experiment\n",
    "from notebooks.experiment_torch import load_torchvision_experiment\n",
    "\n",
    "model, dl_train, dl_eval = load_robust_experiment(\"Standard\", \"cifar10\")\n",
    "# model, dl_train, dl_eval = load_torchvision_experiment(\"vgg16\")"
   ]
  },
  {
   "cell_type": "code",
   "execution_count": null,
   "metadata": {},
   "outputs": [],
   "source": [
    "model"
   ]
  },
  {
   "cell_type": "code",
   "execution_count": null,
   "metadata": {},
   "outputs": [],
   "source": [
    "from ulib.pert_module import PertModule\n",
    "from ulib.attacks.spm.adversarial_attack import SPM_UAP\n",
    "from ulib.attacks.spm.model_feature_extractor import ModelFeatureExtracter\n",
    "from ulib import utils\n",
    "\n",
    "device = utils.extract_device(model)\n",
    "\n",
    "attacked_layer = model.block1.layer[3].conv1\n",
    "mfe = ModelFeatureExtracter(model=model, layer=attacked_layer)\n",
    "\n",
    "x, y = next(iter(dl_train))\n",
    "output_shape = mfe.extract_layer_output(x.to(device)).shape[1:]\n",
    "\n",
    "attack = SPM_UAP(\n",
    "    input_shape=dl_train.data.shape[1:],\n",
    "    output_shape=output_shape,\n",
    "    device=device,\n",
    "    verbose=True,\n",
    "    p=float(\"inf\"),\n",
    "    q=10,\n",
    ")\n",
    "\n",
    "attack.fit(mfe, img_iter=dl_train)"
   ]
  },
  {
   "cell_type": "code",
   "execution_count": null,
   "metadata": {},
   "outputs": [],
   "source": [
    "from ulib import eval\n",
    "\n",
    "eps = 8 / 255\n",
    "pert = attack.get_perturbation(eps=eps)\n",
    "pert_model = PertModule(model, data_shape=dl_train.data.shape[1:], eps=eps)\n",
    "pert_model.set_pert(pert)\n",
    "\n",
    "eval.full_analysis(pert_model, dl_eval)"
   ]
  }
 ],
 "metadata": {
  "kernelspec": {
   "display_name": "adv_hw",
   "language": "python",
   "name": "python3"
  },
  "language_info": {
   "codemirror_mode": {
    "name": "ipython",
    "version": 3
   },
   "file_extension": ".py",
   "mimetype": "text/x-python",
   "name": "python",
   "nbconvert_exporter": "python",
   "pygments_lexer": "ipython3",
   "version": "3.11.11"
  }
 },
 "nbformat": 4,
 "nbformat_minor": 2
}
