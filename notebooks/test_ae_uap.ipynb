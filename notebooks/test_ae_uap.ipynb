{
 "cells": [
  {
   "cell_type": "code",
   "execution_count": null,
   "metadata": {},
   "outputs": [],
   "source": [
    "# fix imports\n",
    "import os\n",
    "import sys\n",
    "\n",
    "module_path = os.path.abspath(os.path.join(\"..\"))\n",
    "if module_path not in sys.path:\n",
    "    sys.path.append(module_path)"
   ]
  },
  {
   "cell_type": "code",
   "execution_count": null,
   "metadata": {},
   "outputs": [],
   "source": [
    "import torch\n",
    "from notebooks.experiment_robust import load_robust_experiment\n",
    "from notebooks.experiment_torch import load_torchvision_experiment\n",
    "\n",
    "model, dl_train, dl_eval = load_robust_experiment(\"Standard\", \"cifar10\")\n",
    "# model, dl_train, dl_eval = load_torchvision_experiment(\"vgg16\")"
   ]
  },
  {
   "cell_type": "code",
   "execution_count": null,
   "metadata": {},
   "outputs": [],
   "source": [
    "from ulib import StopCriteria, PertModule\n",
    "from ulib.attacks.ae_uap import AE_UAP, AE_MIFGSM\n",
    "\n",
    "eps = 8 / 255\n",
    "eps2 = 4 / 255\n",
    "\n",
    "stop = StopCriteria(max_epochs=5, max_time=600)\n",
    "torch_attack = AE_MIFGSM(model, eps=eps2, alpha=eps2 / 10, steps=10, decay=1)\n",
    "pert_model = PertModule(model, data_shape=dl_train.get_tensor(0).shape[1:], eps=eps, random_init=False)\n",
    "optimizer = torch.optim.Adam(pert_model.parameters(), lr=0.005)\n",
    "scheduler = torch.optim.lr_scheduler.CosineAnnealingWarmRestarts(optimizer, T_0=20, T_mult=1)\n",
    "grad_scaler = torch.GradScaler(device=pert_model.device.type)\n",
    "gamma = 0.5\n",
    "\n",
    "attack = AE_UAP(\n",
    "    pert_model=pert_model,\n",
    "    optimizer=optimizer,\n",
    "    inner_attack=torch_attack,\n",
    "    gamma=gamma,\n",
    "    scheduler=scheduler,\n",
    "    grad_scaler=grad_scaler,\n",
    "    eval_freq=1,\n",
    ")\n",
    "\n",
    "pert = attack.fit(dl_train, dl_eval, stop)"
   ]
  },
  {
   "cell_type": "code",
   "execution_count": null,
   "metadata": {},
   "outputs": [],
   "source": [
    "attack.close()"
   ]
  },
  {
   "cell_type": "code",
   "execution_count": null,
   "metadata": {},
   "outputs": [],
   "source": [
    "from ulib.evaluator import ExtendedEvaluator\n",
    "from ulib.utils.visualize import display_pert\n",
    "\n",
    "evaluator = ExtendedEvaluator(pert_model, verbose=True)\n",
    "print(evaluator.evaluate(dl_eval))\n",
    "display_pert(pert_model)"
   ]
  }
 ],
 "metadata": {
  "kernelspec": {
   "display_name": "adv_hw",
   "language": "python",
   "name": "python3"
  },
  "language_info": {
   "codemirror_mode": {
    "name": "ipython",
    "version": 3
   },
   "file_extension": ".py",
   "mimetype": "text/x-python",
   "name": "python",
   "nbconvert_exporter": "python",
   "pygments_lexer": "ipython3",
   "version": "3.11.11"
  }
 },
 "nbformat": 4,
 "nbformat_minor": 2
}
