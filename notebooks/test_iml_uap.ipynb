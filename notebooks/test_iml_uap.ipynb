{
    "cells": [
        {
            "cell_type": "code",
            "execution_count": null,
            "metadata": {},
            "outputs": [],
            "source": [
                "# fix imports\n",
                "import os\n",
                "import sys\n",
                "\n",
                "module_path = os.path.abspath(os.path.join(\"..\"))\n",
                "if module_path not in sys.path:\n",
                "    sys.path.append(module_path)"
            ]
        },
        {
            "cell_type": "code",
            "execution_count": null,
            "metadata": {},
            "outputs": [],
            "source": [
                "import torch\n",
                "from notebooks.experiment_robust import load_robust_experiment\n",
                "from notebooks.experiment_torch import load_torchvision_experiment\n",
                "\n",
                "model, dl_train, dl_eval = load_robust_experiment(\"Salman2020Do_R50\", \"imagenet\", batch_size=128)"
            ]
        },
        {
            "cell_type": "code",
            "execution_count": null,
            "metadata": {},
            "outputs": [],
            "source": [
                "model"
            ]
        },
        {
            "cell_type": "code",
            "execution_count": null,
            "metadata": {},
            "outputs": [],
            "source": [
                "import torchattacks\n",
                "\n",
                "attk_eps = 8 / 255\n",
                "attk_alpha = 8 / 255\n",
                "attk_steps = 5\n",
                "\n",
                "# torch_attack = torchattacks.FGSM(model, eps=attk_eps) # very fast; good\n",
                "# torch_attack = torchattacks.FFGSM(model, eps=attk_eps, alpha=attk_alpha)  # very fast; very good\n",
                "# torch_attack = torchattacks.DIFGSM(model, eps=attk_eps, alpha=attk_alpha, steps=attk_steps) # fast\n",
                "# torch_attack = torchattacks.RFGSM(model, eps=attk_eps, alpha=attk_alpha, steps=attk_steps) # fast; very good\n",
                "# torch_attack = torchattacks.BIM(model, eps=attk_eps, alpha=attk_alpha, steps=attk_steps) # fast\n",
                "# torch_attack = torchattacks.TIFGSM(model, eps=attk_eps, alpha=attk_alpha, steps=attk_steps) # fast\n",
                "# torch_attack = torchattacks.MIFGSM(model, eps=attk_eps, alpha=attl_alpha, steps=attk_steps)  # fast\n",
                "# torch_attack = torchattacks.NIFGSM(model, eps=attk_eps, alpha=attk_alpha, steps=attk_steps) # fast\n",
                "# torch_attack = torchattacks.PGDL2(model, eps=attk_eps, alpha=attk_alpha, steps=attk_steps) # fast\n",
                "# torch_attack = torchattacks.PGD(model) # fast\n",
                "# torch_attack = torchattacks.TPGD(model, eps=attk_eps, alpha=attk_alpha, steps=attk_steps) # fast\n",
                "# torch_attack = torchattacks.UPGD(model, eps=attk_eps, alpha=attk_alpha, steps=attk_steps, loss=\"dlr\") # fast; very good\n",
                "# torch_attack = torchattacks.APGD(model, eps=attk_eps, steps=attk_steps, loss=\"dlr\") # fast; good\n",
                "# torch_attack = torchattacks.Jitter(model, eps=attk_eps, alpha=attk_alpha, steps=attk_steps) # fast; good\n",
                "# torch_attack = torchattacks.PIFGSM(model, max_epsilon=attk_eps, num_iter_set=attk_steps) # normal\n",
                "# torch_attack = torchattacks.PIFGSMPP(model, max_epsilon=attk_eps, num_iter_set=attk_steps) # normal\n",
                "# torch_attack = torchattacks.PGDRS(model, eps=attk_eps, alpha=attk_alpha, steps=attk_steps) # normal\n",
                "# torch_attack = torchattacks.EOTPGD(model, eps=attk_eps, alpha=attk_alpha, steps=attk_steps) # normal\n",
                "# torch_attack = torchattacks.PGDRSL2(model, eps=attk_eps, alpha=attk_alpha, steps=attk_steps) # slow\n",
                "# torch_attack = torchattacks.SINIFGSM(model, eps=attk_eps, alpha=attk_alpha, steps=attk_steps) # slow\n",
                "# torch_attack = torchattacks.VMIFGSM(model, eps=attk_eps, alpha=attk_alpha, steps=attk_steps) # very slow\n",
                "# torch_attack = torchattacks.EADEN(model, lr=attk_alpha, max_iterations=attk_steps) # very slow\n",
                "# torch_attack = torchattacks.VNIFGSM(model, eps=attk_eps, alpha=attk_alpha, steps=attk_steps) # very slow\n",
                "# torch_attack = torchattacks.APGDT(model, eps=attk_eps, steps=attk_steps) # very slow\n",
                "# torch_attack = torchattacks.SPSA(model, eps=attk_eps, lr=attk_alpha) # very slow\n",
                "# torch_attack = torchattacks.FAB(model, eps=attk_eps, steps=attk_steps) # very slow\n",
                "# torch_attack = torchattacks.CW(model, steps=attk_steps, lr=attk_alpha) # very slow\n",
                "# torch_attack = torchattacks.AutoAttack(model, eps=attk_eps) # super slow\n",
                "# torch_attack = torchattacks.Square(model, eps=attk_eps) # super slow\n",
                "# torch_attack = torchattacks.DeepFool(model, steps=attk_steps) # super slow"
            ]
        },
        {
            "cell_type": "code",
            "execution_count": null,
            "metadata": {},
            "outputs": [],
            "source": [
                "import torchattacks.attack\n",
                "from ulib import StopCriteria, PertModule\n",
                "from ulib.attacks.iml_uap import IML_UAP, CosSim\n",
                "from ulib.activation_extractor import ActivationExtractor\n",
                "\n",
                "stop = StopCriteria(max_epochs=30)\n",
                "pert_model = PertModule(model, data_shape=dl_train.get_tensor(0).shape[1:], eps=16 / 255, random_init=True)\n",
                "optim = torch.optim.Adam(pert_model.parameters(), lr=2e-2)\n",
                "criterion = CosSim(aggr_fn=lambda losses: torch.prod(losses, dim=-1))\n",
                "activ_extractor = ActivationExtractor(model, \"model.avgpool\", exact_match=True)\n",
                "scheduler = torch.optim.lr_scheduler.CosineAnnealingWarmRestarts(optim, T_0=50, T_mult=1, eta_min=5e-5)\n",
                "grad_scaler = torch.GradScaler(device=pert_model.device.type)\n",
                "\n",
                "\n",
                "def attack_builder(model: torch.nn.Module, epoch: int) -> torchattacks.attack.Attack:\n",
                "    eps = (pert_model.eps / stop.max_epochs) * (epoch + 1)\n",
                "    # return torchattacks.FFGSM(model, eps=eps, alpha=eps)\n",
                "    # return torchattacks.PGD(model, eps=eps, alpha=eps / 3, steps=5)\n",
                "    # return torchattacks.Jitter(model, eps=eps, alpha=eps / 3, steps=5)\n",
                "    return torchattacks.CW(model, steps=5, lr=eps / 3)\n",
                "\n",
                "\n",
                "attack = IML_UAP(\n",
                "    pert_model=pert_model,\n",
                "    optimizer=optim,\n",
                "    inner_attack=attack_builder,\n",
                "    criterion=criterion,\n",
                "    activ_extractor=activ_extractor,\n",
                "    # scheduler=scheduler,\n",
                "    grad_scaler=grad_scaler,\n",
                "    skip_already_fooled=True,\n",
                "    skip_failed_attacks=True,\n",
                "    logging_enable=True,\n",
                ")\n",
                "\n",
                "pert = attack.fit(dl_train, dl_eval, stop)"
            ]
        },
        {
            "cell_type": "code",
            "execution_count": null,
            "metadata": {},
            "outputs": [],
            "source": [
                "attack.close()"
            ]
        },
        {
            "cell_type": "code",
            "execution_count": null,
            "metadata": {},
            "outputs": [],
            "source": [
                "from ulib import eval\n",
                "\n",
                "eval.full_analysis(pert_model, dl_eval)"
            ]
        }
    ],
    "metadata": {
        "kernelspec": {
            "display_name": "adv_hw",
            "language": "python",
            "name": "python3"
        },
        "language_info": {
            "codemirror_mode": {
                "name": "ipython",
                "version": 3
            },
            "file_extension": ".py",
            "mimetype": "text/x-python",
            "name": "python",
            "nbconvert_exporter": "python",
            "pygments_lexer": "ipython3",
            "version": "3.11.11"
        }
    },
    "nbformat": 4,
    "nbformat_minor": 2
}
