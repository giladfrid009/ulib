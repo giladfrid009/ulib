{
 "cells": [
  {
   "cell_type": "code",
   "execution_count": 1,
   "metadata": {},
   "outputs": [],
   "source": [
    "# fix imports\n",
    "import os\n",
    "import sys\n",
    "\n",
    "module_path = os.path.abspath(os.path.join(\"..\"))\n",
    "if module_path not in sys.path:\n",
    "    sys.path.append(module_path)"
   ]
  },
  {
   "cell_type": "code",
   "execution_count": 2,
   "metadata": {},
   "outputs": [],
   "source": [
    "import torch\n",
    "from torch import nn, Tensor\n",
    "from notebooks.analyze_utils import *\n",
    "import mealpy\n",
    "from mealpy import FloatVar, GA, BoolVar\n",
    "import numpy as np\n",
    "from analyze_utils import *"
   ]
  },
  {
   "cell_type": "code",
   "execution_count": null,
   "metadata": {},
   "outputs": [],
   "source": [
    "import torch\n",
    "from notebooks.experiment_robust import load_robust_experiment\n",
    "from notebooks.experiment_torch import load_torchvision_experiment\n",
    "\n",
    "model, dl_train, dl_eval = load_robust_experiment(\"Standard\", \"cifar10\")\n",
    "# model, dl_train, dl_eval = load_torchvision_experiment(\"vgg16\")"
   ]
  },
  {
   "cell_type": "code",
   "execution_count": null,
   "metadata": {},
   "outputs": [],
   "source": [
    "from typing import Iterable\n",
    "from ulib.pert_module import PertModule\n",
    "from ulib import eval\n",
    "from mealpy import Problem\n",
    "\n",
    "\n",
    "class BinaryObjective(Problem):\n",
    "    def __init__(\n",
    "        self,\n",
    "        pert_model: PertModule,\n",
    "        dl_train: Iterable[tuple[torch.Tensor, ...]],\n",
    "    ):\n",
    "        self.pert_model = pert_model\n",
    "        self.dl_train = dl_train\n",
    "        self.shape = self.pert_model.shape\n",
    "\n",
    "        super().__init__(\n",
    "            bounds=BoolVar(n_vars=np.prod(self.shape).item()),\n",
    "            minimax=\"min\",\n",
    "        )\n",
    "\n",
    "    def rescale(self, pert_np: np.ndarray) -> torch.Tensor:\n",
    "        pert = torch.tensor(pert_np, dtype=torch.float32, device=self.pert_model.device).view(self.shape)\n",
    "        pert = 2 * pert - 1  # Normalize to [-1, 1]\n",
    "        pert = pert * self.pert_model.eps  # Scale to [-eps, eps]\n",
    "        return pert\n",
    "    \n",
    "    def obj_func(self, x: np.ndarray) -> float:\n",
    "        pert = self.rescale(x)\n",
    "        self.pert_model.set_pert(pert)\n",
    "        acc = eval.accuracy(self.pert_model, self.dl_train)\n",
    "        return acc"
   ]
  },
  {
   "cell_type": "code",
   "execution_count": null,
   "metadata": {},
   "outputs": [],
   "source": [
    "pert_model = PertModule(\n",
    "    model,\n",
    "    data_shape=dl_train.data[0].shape,\n",
    "    eps=8 / 255,\n",
    "    norm=float(\"inf\"),\n",
    "    random_init=False,\n",
    "    input_range=(0, 1),\n",
    ")\n",
    "\n",
    "problem = BinaryObjective(pert_model, dl_train)\n",
    "optimizer = mealpy.PSO.OriginalPSO()"
   ]
  },
  {
   "cell_type": "code",
   "execution_count": null,
   "metadata": {},
   "outputs": [],
   "source": [
    "g_best = optimizer.solve(\n",
    "    problem=problem,\n",
    "    mode=\"single\",\n",
    "    termination={\"max_time\": 2 * 60},\n",
    "    seed=42,\n",
    ")"
   ]
  },
  {
   "cell_type": "code",
   "execution_count": null,
   "metadata": {},
   "outputs": [],
   "source": [
    "from ulib import eval\n",
    "\n",
    "best_pert = problem.rescale(g_best.solution)\n",
    "pert_model = problem.pert_model\n",
    "pert_model.set_pert(best_pert)\n",
    "eval.full_analysis(pert_model, dl_eval)"
   ]
  }
 ],
 "metadata": {
  "kernelspec": {
   "display_name": "adv_hw",
   "language": "python",
   "name": "python3"
  },
  "language_info": {
   "codemirror_mode": {
    "name": "ipython",
    "version": 3
   },
   "file_extension": ".py",
   "mimetype": "text/x-python",
   "name": "python",
   "nbconvert_exporter": "python",
   "pygments_lexer": "ipython3",
   "version": "3.11.11"
  }
 },
 "nbformat": 4,
 "nbformat_minor": 2
}
