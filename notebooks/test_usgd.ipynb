{
 "cells": [
  {
   "cell_type": "code",
   "execution_count": 1,
   "metadata": {},
   "outputs": [],
   "source": [
    "# fix imports\n",
    "import os\n",
    "import sys\n",
    "\n",
    "module_path = os.path.abspath(os.path.join(\"..\"))\n",
    "if module_path not in sys.path:\n",
    "    sys.path.append(module_path)"
   ]
  },
  {
   "cell_type": "code",
   "execution_count": null,
   "metadata": {},
   "outputs": [
    {
     "name": "stderr",
     "output_type": "stream",
     "text": [
      "Downloading: \"https://download.pytorch.org/models/alexnet-owt-7be5be79.pth\" to /home/fre.gilad/.cache/torch/hub/checkpoints/alexnet-owt-7be5be79.pth\n",
      "100%|██████████| 233M/233M [00:03<00:00, 64.5MB/s] \n"
     ]
    },
    {
     "data": {
      "application/vnd.jupyter.widget-view+json": {
       "model_id": "113e61d2269f490e88cce4bc2f609421",
       "version_major": 2,
       "version_minor": 0
      },
      "text/plain": [
       "Creating Dataset:   0%|          | 0/10000 [00:00<?, ?it/s]"
      ]
     },
     "metadata": {},
     "output_type": "display_data"
    },
    {
     "data": {
      "application/vnd.jupyter.widget-view+json": {
       "model_id": "a8807eb2d65d40018521689f35fcb220",
       "version_major": 2,
       "version_minor": 0
      },
      "text/plain": [
       "Creating Dataset:   0%|          | 0/5000 [00:00<?, ?it/s]"
      ]
     },
     "metadata": {},
     "output_type": "display_data"
    },
    {
     "data": {
      "application/vnd.jupyter.widget-view+json": {
       "model_id": "7bdbe745dda54cbe91b09c100bfd35d9",
       "version_major": 2,
       "version_minor": 0
      },
      "text/plain": [
       "Extracting Samples:   0%|          | 0/10 [00:00<?, ?it/s]"
      ]
     },
     "metadata": {},
     "output_type": "display_data"
    },
    {
     "data": {
      "application/vnd.jupyter.widget-view+json": {
       "model_id": "42b3f22e5f3b4ebe804e000de2ab776a",
       "version_major": 2,
       "version_minor": 0
      },
      "text/plain": [
       "Extracting Samples:   0%|          | 0/5 [00:00<?, ?it/s]"
      ]
     },
     "metadata": {},
     "output_type": "display_data"
    },
    {
     "data": {
      "application/vnd.jupyter.widget-view+json": {
       "model_id": "2410b7a5b4e5445cb707467c2116a6a8",
       "version_major": 2,
       "version_minor": 0
      },
      "text/plain": [
       "Evaluating:   0%|          | 0/313 [00:00<?, ?it/s]"
      ]
     },
     "metadata": {},
     "output_type": "display_data"
    },
    {
     "data": {
      "application/vnd.jupyter.widget-view+json": {
       "model_id": "3cbbccf9a48b46368e1cec47f96b4bde",
       "version_major": 2,
       "version_minor": 0
      },
      "text/plain": [
       "Evaluating:   0%|          | 0/157 [00:00<?, ?it/s]"
      ]
     },
     "metadata": {},
     "output_type": "display_data"
    },
    {
     "name": "stdout",
     "output_type": "stream",
     "text": [
      "Model           : AlexNet\n",
      "Device          : cuda\n",
      "Clean Eval Acc  : 56.72\n",
      "Clean Train Acc : 73.98\n",
      "Weight          : IMAGENET1K_V1\n",
      "Metrics         : {'ImageNet-1K': {'acc@1': 56.522, 'acc@5': 79.066}}\n"
     ]
    }
   ],
   "source": [
    "import torch\n",
    "from notebooks.experiment_robust import load_robust_experiment\n",
    "from notebooks.experiment_torch import load_torchvision_experiment\n",
    "\n",
    "model, dl_train, dl_eval = load_robust_experiment(\"Standard_R50\", \"imagenet\")\n",
    "# model, dl_train, dl_eval = load_torchvision_experiment(\"alexnet\", batch_size=32)"
   ]
  },
  {
   "cell_type": "code",
   "execution_count": null,
   "metadata": {},
   "outputs": [],
   "source": [
    "from ulib.attack import StopCriteria\n",
    "from ulib.attacks.usgd import USGD\n",
    "from ulib.pert_module import PertModule\n",
    "from ulib import eval\n",
    "\n",
    "stop = StopCriteria(max_epochs=10, max_time=60 * 10, patience=5, patience_delta=0.001)\n",
    "pert_model = PertModule(model, data_shape=dl_train.get_tensor(0).shape[1:], eps=8 / 255, random_init=True)\n",
    "optimizer = torch.optim.Adam(pert_model.parameters(), lr=1e-2, maximize=True)\n",
    "criterion = torch.nn.CrossEntropyLoss()\n",
    "scheduler = torch.optim.lr_scheduler.CosineAnnealingWarmRestarts(optimizer, T_0=100, T_mult=1)\n",
    "grad_scaler = torch.GradScaler(device=pert_model.device.type)\n",
    "\n",
    "attack = USGD(\n",
    "    pert_model=pert_model,\n",
    "    optimizer=optimizer,\n",
    "    criterion=criterion,\n",
    "    skip_already_fooled=False,\n",
    "    scheduler=scheduler,\n",
    "    grad_scaler=grad_scaler,\n",
    "    sched_on_batch=True,\n",
    "    eval_on_batch=True,\n",
    "    eval_freq=100,\n",
    "    targeted=False,\n",
    "    metric_func=eval.attack_success_ratio,\n",
    "    # log_dir=\"logs\",\n",
    ")\n",
    "\n",
    "pert = attack.fit(dl_train, dl_eval, stop)"
   ]
  },
  {
   "cell_type": "code",
   "execution_count": null,
   "metadata": {},
   "outputs": [],
   "source": [
    "attack.close()"
   ]
  },
  {
   "cell_type": "code",
   "execution_count": null,
   "metadata": {},
   "outputs": [],
   "source": [
    "from ulib import eval\n",
    "\n",
    "eval.full_analysis(pert_model, dl_eval)"
   ]
  }
 ],
 "metadata": {
  "kernelspec": {
   "display_name": "adv_hw",
   "language": "python",
   "name": "python3"
  },
  "language_info": {
   "codemirror_mode": {
    "name": "ipython",
    "version": 3
   },
   "file_extension": ".py",
   "mimetype": "text/x-python",
   "name": "python",
   "nbconvert_exporter": "python",
   "pygments_lexer": "ipython3",
   "version": "3.11.11"
  }
 },
 "nbformat": 4,
 "nbformat_minor": 2
}
