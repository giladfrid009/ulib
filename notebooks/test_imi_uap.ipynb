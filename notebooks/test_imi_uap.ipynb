{
 "cells": [
  {
   "cell_type": "code",
   "execution_count": null,
   "metadata": {},
   "outputs": [],
   "source": [
    "# fix imports\n",
    "import os\n",
    "import sys\n",
    "\n",
    "module_path = os.path.abspath(os.path.join(\"..\"))\n",
    "if module_path not in sys.path:\n",
    "    sys.path.append(module_path)"
   ]
  },
  {
   "cell_type": "code",
   "execution_count": null,
   "metadata": {},
   "outputs": [],
   "source": [
    "import torch\n",
    "from notebooks.experiment_robust import load_robust_experiment\n",
    "from notebooks.experiment_torch import load_torchvision_experiment\n",
    "\n",
    "model, dl_train, dl_eval = load_robust_experiment(\"Standard\", \"cifar10\")\n",
    "# model, dl_train, dl_eval = load_torchvision_experiment(\"vgg16\")"
   ]
  },
  {
   "cell_type": "code",
   "execution_count": null,
   "metadata": {},
   "outputs": [],
   "source": [
    "class CosineSimilarity(torch.nn.Module):\n",
    "    def forward(self, v1: torch.Tensor, v2: torch.Tensor) -> torch.Tensor:\n",
    "        # we want to maximize this loss\n",
    "        v1 = v1.view(v1.size(0), -1)\n",
    "        v2 = v2.view(v2.size(0), -1)\n",
    "        return torch.cosine_similarity(v1, v2, dim=1).mean()"
   ]
  },
  {
   "cell_type": "code",
   "execution_count": null,
   "metadata": {},
   "outputs": [],
   "source": [
    "from ulib.attack import StopCriteria\n",
    "from ulib.attacks.imi_uap import IMI_UAP\n",
    "from ulib.pert_module import PertModule\n",
    "import torchattacks\n",
    "\n",
    "stop = StopCriteria(max_epochs=10, max_time=600)\n",
    "torch_attack = torchattacks.FFGSM(model)\n",
    "pert_model = PertModule(model, data_shape=dl_train.data.shape[1:], eps=8 / 255)\n",
    "optimizer = torch.optim.Adam(pert_model.parameters(), lr=0.01, maximize=True)\n",
    "criterion = CosineSimilarity()\n",
    "scheduler = torch.optim.lr_scheduler.CosineAnnealingWarmRestarts(optimizer, T_0=20, T_mult=1, eta_min=5e-5)\n",
    "grad_scaler = torch.GradScaler(device=pert_model.device.type)\n",
    "\n",
    "attack = IMI_UAP(\n",
    "    pert_model=pert_model,\n",
    "    optimizer=optimizer,\n",
    "    inner_attack=torch_attack,\n",
    "    criterion=criterion,\n",
    "    scheduler=scheduler,\n",
    "    grad_scaler=grad_scaler,\n",
    ")\n",
    "\n",
    "pert = attack.fit(dl_train, dl_eval, stop)"
   ]
  },
  {
   "cell_type": "code",
   "execution_count": null,
   "metadata": {},
   "outputs": [],
   "source": [
    "attack.close()"
   ]
  },
  {
   "cell_type": "code",
   "execution_count": null,
   "metadata": {},
   "outputs": [],
   "source": [
    "from ulib import eval\n",
    "\n",
    "eval.full_analysis(pert_model, dl_eval)"
   ]
  }
 ],
 "metadata": {
  "kernelspec": {
   "display_name": "adv_hw",
   "language": "python",
   "name": "python3"
  },
  "language_info": {
   "codemirror_mode": {
    "name": "ipython",
    "version": 3
   },
   "file_extension": ".py",
   "mimetype": "text/x-python",
   "name": "python",
   "nbconvert_exporter": "python",
   "pygments_lexer": "ipython3",
   "version": "3.11.11"
  }
 },
 "nbformat": 4,
 "nbformat_minor": 2
}
