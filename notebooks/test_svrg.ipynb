{
 "cells": [
  {
   "cell_type": "code",
   "execution_count": 1,
   "metadata": {},
   "outputs": [],
   "source": [
    "# fix imports\n",
    "import os\n",
    "import sys\n",
    "\n",
    "module_path = os.path.abspath(os.path.join(\"..\"))\n",
    "if module_path not in sys.path:\n",
    "    sys.path.append(module_path)"
   ]
  },
  {
   "cell_type": "code",
   "execution_count": null,
   "metadata": {},
   "outputs": [],
   "source": [
    "import torch\n",
    "from notebooks.experiment_robust import load_robust_experiment\n",
    "from notebooks.experiment_torch import load_torchvision_experiment\n",
    "\n",
    "# model, dl_train, dl_eval = load_robust_experiment(\"Standard_R50\", \"imagenet\")\n",
    "model, dl_train, dl_eval = load_torchvision_experiment(\"googlenet\", batch_size=256)"
   ]
  },
  {
   "cell_type": "code",
   "execution_count": null,
   "metadata": {},
   "outputs": [],
   "source": [
    "from ulib.attack import StopCriteria\n",
    "from ulib.attacks.svrg_uap import SVRG_UAP\n",
    "from ulib.pert_module import PertModule\n",
    "from ulib import eval\n",
    "\n",
    "stop = StopCriteria(max_epochs=15, max_time=600)\n",
    "pert_model = PertModule(\n",
    "    model,\n",
    "    data_shape=dl_train.get_tensor(0).shape[1:],\n",
    "    eps=10 / 255,\n",
    "    random_init=False,\n",
    ")\n",
    "\n",
    "criterion = torch.nn.CrossEntropyLoss()\n",
    "learning_rate = 0.5\n",
    "num_batches = len(dl_train)\n",
    "\n",
    "attack = SVRG_UAP(\n",
    "    pert_model=pert_model,\n",
    "    criterion=criterion,\n",
    "    num_batches=num_batches,\n",
    "    learning_rate=learning_rate,\n",
    "    y_s_eps=12 / 255,\n",
    "    attk_correct=True,\n",
    "    mode=\"average\",\n",
    "    metric_func=eval.fooling_rate,\n",
    ")\n",
    "\n",
    "pert = attack.fit(dl_train, dl_eval, stop)"
   ]
  },
  {
   "cell_type": "code",
   "execution_count": 4,
   "metadata": {},
   "outputs": [],
   "source": [
    "attack.close()"
   ]
  },
  {
   "cell_type": "code",
   "execution_count": null,
   "metadata": {},
   "outputs": [],
   "source": [
    "from ulib import eval\n",
    "\n",
    "eval.full_analysis(pert_model, dl_eval)"
   ]
  }
 ],
 "metadata": {
  "kernelspec": {
   "display_name": "adv_hw",
   "language": "python",
   "name": "python3"
  },
  "language_info": {
   "codemirror_mode": {
    "name": "ipython",
    "version": 3
   },
   "file_extension": ".py",
   "mimetype": "text/x-python",
   "name": "python",
   "nbconvert_exporter": "python",
   "pygments_lexer": "ipython3",
   "version": "3.11.11"
  }
 },
 "nbformat": 4,
 "nbformat_minor": 2
}
