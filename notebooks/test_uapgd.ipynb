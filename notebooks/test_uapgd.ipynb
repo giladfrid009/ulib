{
    "cells": [
        {
            "cell_type": "code",
            "execution_count": null,
            "metadata": {},
            "outputs": [],
            "source": [
                "# fix imports\n",
                "import os\n",
                "import sys\n",
                "\n",
                "module_path = os.path.abspath(os.path.join(\"..\"))\n",
                "if module_path not in sys.path:\n",
                "    sys.path.append(module_path)"
            ]
        },
        {
            "cell_type": "code",
            "execution_count": null,
            "metadata": {},
            "outputs": [],
            "source": [
                "import torch\n",
                "from notebooks.experiment_robust import load_robust_experiment\n",
                "from notebooks.experiment_torch import load_torchvision_experiment\n",
                "\n",
                "model, dl_train, dl_eval = load_robust_experiment(\"Salman2020Do_R50\", \"imagenet\", batch_size=256)\n",
                "# model, dl_train, dl_eval = load_torchvision_experiment(\"vgg16\")\n",
                "\n",
                "dl_eval.batch_size = 256"
            ]
        },
        {
            "cell_type": "code",
            "execution_count": null,
            "metadata": {},
            "outputs": [],
            "source": [
                "from ulib.attack import StopCriteria\n",
                "from ulib.attacks.uapgd import MIPGD, UAPGD, ValueScheduler\n",
                "from ulib.pert_module import PertModule\n",
                "from torch.optim.lr_scheduler import StepLR\n",
                "\n",
                "stop = StopCriteria(max_epochs=20, max_time=60 * 60)\n",
                "torch_attack = MIPGD(model, eps=16 / 255, alpha=0.1, gamma=0)\n",
                "pert_model = PertModule(model, data_shape=dl_train.get_tensor(0).shape[1:], eps=16 / 255)\n",
                "alpha_sched = ValueScheduler(init_value=0.1, sched_cls=StepLR, step_size=5, gamma=0.2)\n",
                "\n",
                "\n",
                "attack = UAPGD(\n",
                "    pert_model=pert_model,\n",
                "    inner_attack=torch_attack,\n",
                "    alpha_sched=alpha_sched,\n",
                "    sched_on_batch=False,\n",
                "    eval_freq=30,\n",
                "    eval_on_batch=True,\n",
                "    logging_enable=True,\n",
                ")\n",
                "\n",
                "pert = attack.fit(dl_train, dl_eval, stop)"
            ]
        },
        {
            "cell_type": "code",
            "execution_count": null,
            "metadata": {},
            "outputs": [],
            "source": [
                "attack.close()"
            ]
        },
        {
            "cell_type": "code",
            "execution_count": null,
            "metadata": {},
            "outputs": [],
            "source": [
                "from ulib import eval\n",
                "\n",
                "eval.full_analysis(pert_model, dl_eval)"
            ]
        }
    ],
    "metadata": {
        "kernelspec": {
            "display_name": "adv_hw",
            "language": "python",
            "name": "python3"
        },
        "language_info": {
            "codemirror_mode": {
                "name": "ipython",
                "version": 3
            },
            "file_extension": ".py",
            "mimetype": "text/x-python",
            "name": "python",
            "nbconvert_exporter": "python",
            "pygments_lexer": "ipython3",
            "version": "3.11.11"
        }
    },
    "nbformat": 4,
    "nbformat_minor": 2
}
